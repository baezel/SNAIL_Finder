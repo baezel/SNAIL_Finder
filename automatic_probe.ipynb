{
 "cells": [
  {
   "cell_type": "markdown",
   "metadata": {},
   "source": [
    "For PHYTOMap, probes must be:\n",
    "40 - 50 nucleotide length.\n",
    "Padlock:Primer ratio maximum of 22:26.\n",
    "There must be a 2 nuc gap between the Padlock and Primer\n",
    "\n",
    "Padlock and Primer must each have:\n",
    "GC content of 40% - 60% \n",
    "Mt ~60C \n",
    "They must be unique to each bacteria and Arabidopsis \n",
    "\n",
    "Padlock must have unique barcode \n",
    "Padlock and Primers must have complementary regions. \n",
    "\n",
    "Having multiple probes is good: aim for 4."
   ]
  },
  {
   "cell_type": "code",
   "execution_count": 1,
   "metadata": {},
   "outputs": [],
   "source": [
    "#import packages\n",
    "import pandas as pd #v.2.2.2\n",
    "import numpy as np #v1.26.4\n",
    "import matplotlib.pyplot as plt #v.3.9.2\n",
    "import scipy.stats as stats\n",
    "from Bio import SeqIO\n",
    "from Bio.SeqUtils import MeltingTemp as mt\n",
    "from Bio.SeqUtils import gc_fraction\n",
    "from Bio.Seq import Seq\n",
    "import pandas as pd\n",
    "\n"
   ]
  },
  {
   "cell_type": "markdown",
   "metadata": {},
   "source": [
    "since Tatsuya wants to make use of the entire genome. I've made BlastDBs of 4 bacteria genomes + Arabidopsis Col-0; (4 BlastDBs each with one bac genome removed, plus one BLASTdb with all of them).\n",
    "I'm going to take the agrobacterium genome (as it's the smallest) and split it into 52-mers. I'm then going to filter this by GC content. Then, I will blast this locally, using a command-line call. This should give me unique potential probes which I can then split into 25-mers and find the melting temperature of. An outgoing issue is limiting it to constitutively expressed, protein-coding genetic material; good luck charlie!"
   ]
  },
  {
   "cell_type": "code",
   "execution_count": 27,
   "metadata": {},
   "outputs": [
    {
     "name": "stdout",
     "output_type": "stream",
     "text": [
      "72.53 72.17 71.82 73.01 72.53 72.26\n",
      "72.38666666666666\n",
      "[[85.4096983808044, 34.25773290625153], [55.54818027844675, 64.45985080083557], [63.17356530041576, 57.40484923281855], [62.31418441386046, 63.50496372029204], [63.03005494340198, 59.19594653087131], [60.540660830668, 60.778044818247224]]\n"
     ]
    }
   ],
   "source": [
    "# my incredibly flawless and scientific method to find a 52-mer with a 50% GC content will have a mt of ~72.\n",
    "\n",
    "myseq1 = Seq(\"CGCGCGCGCGCGCGCGCGCGCGCGCATATATATATATATATATATATATATGT\")\n",
    "myseq2 = Seq(\"AAACGATTTTAGAGATCTAGGTCAGCCCGGCACTGGTCCCAAATTCTGTGCAC\")\n",
    "myseq3 = Seq(\"CGTTCAACGCAGTTCGACTAAGCGTCATGAGGGAAATTCTACTCTTGCAGTGC\")\n",
    "myseq4 = Seq(\"CACATCAGCACATCGCGTTAAGGGAAAACAATTGCCCGTTTTATGCGTGCGTC\")\n",
    "myseq5 = Seq(\"ATATCGGCGCACGGACTTTACACAGTGTACCTGAGTTCGGACCTTGAAATCGT\")\n",
    "myseq6 = Seq(\"CTAGCCACAATGCGCATGTAAGGAATTGTCACTTTGGGCTCAACACTGACTGC\")\n",
    "\n",
    "mt1 = '%0.2f' % mt.Tm_NN(myseq1,dnac1=250, dnac2=250, Na=50)\n",
    "mt2 = '%0.2f' % mt.Tm_NN(myseq2,dnac1=250, dnac2=250, Na=50)\n",
    "mt3 = '%0.2f' % mt.Tm_NN(myseq3,dnac1=250, dnac2=250, Na=50)\n",
    "mt4 = '%0.2f' % mt.Tm_NN(myseq4,dnac1=250, dnac2=250, Na=50)\n",
    "mt5 = '%0.2f' % mt.Tm_NN(myseq5,dnac1=250, dnac2=250, Na=50)\n",
    "mt6 = '%0.2f' % mt.Tm_NN(myseq6,dnac1=250, dnac2=250, Na=50)\n",
    "\n",
    "print(mt1,mt2,mt3,mt4,mt5,mt6)\n",
    "print(np.mean([72.53, 72.17, 71.82, 73.01, 72.53, 72.26]))\n",
    "\n",
    "# and if i split these sequences in half? do we get a mt of hopefully around 60C?\n",
    "seq_test_list = [myseq1,myseq2,myseq3,myseq4,myseq5,myseq6]\n",
    "\n",
    "results = []\n",
    "for seq in seq_test_list:\n",
    "    mt_26 = [mt.Tm_NN(seq[0:26],dnac1=250, dnac2=250, Na=50),mt.Tm_NN(seq[27:52],dnac1=250, dnac2=250, Na=50)]\n",
    "    results.append(mt_26)\n",
    "\n",
    "print(results)\n",
    "\n",
    "# yeah! in the ball park!\n"
   ]
  },
  {
   "cell_type": "markdown",
   "metadata": {},
   "source": [
    "### define functions \n",
    "(I know, they're a bit ugly!)"
   ]
  },
  {
   "cell_type": "code",
   "execution_count": 2,
   "metadata": {},
   "outputs": [],
   "source": [
    "def possible_probes(input_file_path): #note, this will \"append\" if file is already present!\n",
    "    results = []\n",
    "    all_fasta_list = []\n",
    "    window_size = 52 #the contig size; as we want 2 25 nt probes with a 2 nt gap.\n",
    "    for record in SeqIO.parse(input_file_path, \"fasta\"):\n",
    "        all_fasta_list.append([record.id,record.seq]) #this is a list of all the genes.\n",
    "    for gene in all_fasta_list:\n",
    "        for i in range(len(gene[1]) - window_size + 1):\n",
    "            temporary_kmer = (gene[1][i: i + window_size])\n",
    "            try:\n",
    "                tm = mt.Tm_NN(                          \n",
    "                    temporary_kmer,\n",
    "                    dnac1=250, dnac2=250, \n",
    "                    Na=50\n",
    "                )\n",
    "                gc_content = gc_fraction(\n",
    "                    temporary_kmer\n",
    "                )\n",
    "                if abs(tm - 72.4) <= 5 and 0.4 <= gc_content <= 0.6:\n",
    "                    results.append((temporary_kmer, i, tm, gc_content,gene[0]))\n",
    "            except:\n",
    "                continue\n",
    "    return results #this outputs a list of lists of the results saved to the fasta files!\n",
    "\n",
    "# run the blast shell scripts between these functions.\n",
    "\n",
    "def post_blast_processing(blast_hits_filepath,possible_probes,annotation_filepath):\n",
    "    #import blast hits and add column names\n",
    "    blast_hits = pd.read_csv(blast_hits_filepath, names = [\"qseqid\", \"sseqid\", \"pident\", \"length\", \"mismatch\", \"gapopen\", \"qstart\", \"qend\", \"sstart\", \"send\", \"evalue\", \"bitscore\"], usecols=[\"qseqid\"])\n",
    "    #use it to filter our possible_probes\n",
    "    probes_df = pd.DataFrame(possible_probes, columns = [\"probe_seq\", \"start_position_in_gene\", \"melting temp\", \"GC\", \"geneID\" ]) #relabelling\n",
    "    probes_df['ID'] = probes_df['start_position_in_gene'].astype(str) + '_of_' + probes_df['geneID'].astype(str)\n",
    "    unique_probes = probes_df.loc[~probes_df['ID'].isin(blast_hits['qseqid'])].reset_index(drop=True)\n",
    "\n",
    "    #split 52-mer probes into 25-mer probes and recheck melting temperature and gc content\n",
    "\n",
    "    unique_probes['probe1'] = unique_probes.loc[:,'probe_seq'].str[0:25]\n",
    "    unique_probes['probe2'] = unique_probes.loc[:,'probe_seq'].str[27:50] # 2 nt gap.\n",
    "    #recheck melting temp\n",
    "    probe1_series = pd.Series(unique_probes.loc[:,'probe1'])\n",
    "    probe2_series = pd.Series(unique_probes.loc[:,'probe2'])\n",
    "    mt_list1 = []\n",
    "    mt_list2 = []\n",
    "\n",
    "    for probe in probe1_series:\n",
    "        melting_temp = mt.Tm_NN(probe,dnac1=250, dnac2=250, Na=50)\n",
    "        mt_list1.append(melting_temp)\n",
    "\n",
    "    for probe in probe2_series:\n",
    "        melting_temp = mt.Tm_NN(probe,dnac1=250, dnac2=250, Na=50)\n",
    "        mt_list2.append(melting_temp)\n",
    "\n",
    "    unique_probes['mt1'] = mt_list1\n",
    "    unique_probes['mt2'] = mt_list2\n",
    "\n",
    "    # and gc content of these half probes\n",
    "    gc_list1 = []\n",
    "    gc_list2 = []\n",
    "\n",
    "    for probe in probe1_series:\n",
    "        gc_content = gc_fraction(probe)\n",
    "        gc_list1.append(gc_content)\n",
    "\n",
    "    for probe in probe2_series:\n",
    "        gc_content = gc_fraction(probe)\n",
    "        gc_list2.append(gc_content)\n",
    "\n",
    "    unique_probes['gc1'] = gc_list1\n",
    "    unique_probes['gc2'] = gc_list2\n",
    "\n",
    "    #filter to useful probes\n",
    "    good_probes = unique_probes[\n",
    "        (abs(unique_probes['mt1'] - 60) <= 2) &\n",
    "        (abs(unique_probes['mt2'] - 60) <= 2) &\n",
    "        (0.4 <= unique_probes['gc1']) & (unique_probes['gc1'] <= 0.6) &\n",
    "        (0.4 <= unique_probes['gc2']) & (unique_probes['gc2'] <= 0.6)           \n",
    "        ]\n",
    "    \n",
    "    #find how many probes per gene and attach KO annotations\n",
    "    probes_by_geneID = pd.DataFrame(good_probes['geneID'].value_counts())\n",
    "    probes_by_geneID = probes_by_geneID.rename(columns={\"count\": \"probe_count\"})\n",
    "\n",
    "    #the downloaded annotations are tab-delimited\n",
    "    KO_df = pd.read_csv(annotation_filepath,sep='\\t')\n",
    "    KO_df['gene_oid'] = KO_df['gene_oid'].astype(str)\n",
    "\n",
    "    probes_KO = pd.merge(probes_by_geneID, KO_df, left_on='geneID', right_on='gene_oid').iloc[:,[0,1,3,8,10,11]]\n",
    "    return [good_probes,probes_KO]\n"
   ]
  },
  {
   "cell_type": "markdown",
   "metadata": {},
   "source": [
    "### Initial probe screening"
   ]
  },
  {
   "cell_type": "code",
   "execution_count": 3,
   "metadata": {},
   "outputs": [],
   "source": [
    "baci21_input_path = \"/Users/guf24vol/Documents/nobori_PHYTOMap_rotation/probes/genomes/all_just_cds/coding_seq_only_probes/bacillus_2563366514.genes.fna\"\n",
    "baci21_probes = possible_probes(baci21_input_path)"
   ]
  },
  {
   "cell_type": "code",
   "execution_count": 5,
   "metadata": {},
   "outputs": [],
   "source": [
    "#write to text file output\n",
    "baci21_fasta = open(\"/Users/guf24vol/Documents/nobori_PHYTOMap_rotation/probes/baci21_possible.fasta\", \"a\")\n",
    "for maybe_probe in baci21_probes:\n",
    "    string = f\">{maybe_probe[1]}_of_{maybe_probe[4]} \\n\" + str(maybe_probe[0]) + \"\\n\"\n",
    "    baci21_fasta.write(string)\n",
    "baci21_fasta.close()"
   ]
  },
  {
   "cell_type": "code",
   "execution_count": null,
   "metadata": {},
   "outputs": [
    {
     "name": "stdout",
     "output_type": "stream",
     "text": [
      "where: probe_seq | start_position_in_gene | melting temp | GC content | geneID \n",
      "\n",
      "first agro probe: (Seq('CAGAAACCGGCATCGACATGGCTGTTCCGCAGAGCTCAACCCTTGCGACCCA'), 7, 77.25578017378962, 0.5961538461538461, '2562541315') \n",
      " total agro probes:  2129340\n",
      "first agro probe: (Seq('CCTGCAGTATCTCATGCTGAAAACCAAGAAGCTGTAAAACAACTTACTCCAA'), 0, 68.19014210611846, 0.40384615384615385, '2518120388') \n",
      " total agro probes:  1400565\n",
      "first agro probe: (Seq('TGTAGGACCACGACATTTTATGCATGCAGAACCGGAAGTTACTGGAAAGTGA'), 0, 70.34675648662079, 0.4423076923076923, '2563780541') \n",
      " total agro probes:  1182763\n",
      "first agro probe: (Seq('GAAGCCCGGCGACAACCTCAAGTGGGTCGTCAGCTACCAGAACAACACGGGT'), 179, 76.76611293413566, 0.5961538461538461, '2522792368') \n",
      " total agro probes:  198271\n",
      "first agro probe: (Seq('ATGAGTAGCCTCTTAACAAGCGCCCAATTACAGCTTTTATTTGCGTTGTGCT'), 0, 70.34055691670147, 0.4230769230769231, '2230705794') \n",
      " total agro probes:  2429386\n",
      "first agro probe: (Seq('ATGAAGTCGGTCGAAGAGCAGCTAGCGCTGATCAAACGTGGTGCGGAAGAAC'), 0, 74.37201888574731, 0.5384615384615384, 'lcl|NZ_PHHS01000001.1_cds_WP_003206110.1_1_[gene=tyrS]_[locus_tag=CVG87_RS00005]_[protein=tyrosine--tRNA_ligase]_[protein_id=WP_003206110.1]_[location=complement(131..1330)]_[gbkey=CDS]') \n",
      " total agro probes:  1932592\n"
     ]
    }
   ],
   "source": [
    "## Agrobacteria\n",
    "agro_input_path = '/Users/guf24vol/Documents/nobori_PHYTOMap_rotation/probes/genomes/coding_seq_only/agrobacterium_2561511224.genes.fna'\n",
    "agro_probes = possible_probes(agro_input_path)\n",
    "\n",
    "## Bacillus\n",
    "baci_input_path = '/Users/guf24vol/Documents/nobori_PHYTOMap_rotation/probes/genomes/coding_seq_only/bacillus_2517572206.genes.fna'\n",
    "baci_probes = possible_probes(baci_input_path)\n",
    "\n",
    "## flavobacteria\n",
    "flavo_input_path = '/Users/guf24vol/Documents/nobori_PHYTOMap_rotation/probes/genomes/coding_seq_only/flavobacterium_2563366720.genes.fna'\n",
    "flavo_probes = possible_probes(flavo_input_path)\n",
    "\n",
    "## Leifsonia\n",
    "leif_input_path = '/Users/guf24vol/Documents/nobori_PHYTOMap_rotation/probes/genomes/coding_seq_only/leifsona_2522572063.genes.fna'\n",
    "leif_probes = possible_probes(leif_input_path)\n",
    "\n",
    "## Pseud\n",
    "pseud_input_path = '/Users/guf24vol/Documents/nobori_PHYTOMap_rotation/probes/genomes/coding_seq_only/pseud_2228664007.genes.fna'\n",
    "pseud_probes = possible_probes(pseud_input_path)\n",
    "\n",
    "## WCS365\n",
    "wcs365_input_path = '/Users/guf24vol/Documents/nobori_PHYTOMap_rotation/probes/genomes/coding_seq_only/WCS365_cds.fna'\n",
    "wcs365_probes = possible_probes(wcs365_input_path)\n",
    "\n",
    "\n",
    "#check output\n",
    "output_list = [agro_probes,baci_probes,flavo_probes,leif_probes,pseud_probes,wcs365_probes]\n",
    "names_list = [\"agro\", \"baci\", \"flavo\", \"leif\", \"pseud\", \"wcs365\"]\n",
    "name_tick = 0\n",
    "print(\"where: probe_seq | start_position_in_gene | melting temp | GC content | geneID\", '\\n')\n",
    "for output in output_list:\n",
    "    print(\n",
    "        f\"first {names_list[name_tick]} probe:\", output[0], '\\n',\n",
    "        f\"total {names_list[name_tick]} probes: \",len(output)\n",
    "    )\n",
    "\n",
    "#write to text file output\n",
    "agro_fasta = open(\"/Users/guf24vol/Documents/nobori_PHYTOMap_rotation/probes/agro_possible.fasta\", \"a\")\n",
    "for maybe_probe in agro_probes:\n",
    "    string = f\">{maybe_probe[1]}_of_{maybe_probe[4]} \\n\" + str(maybe_probe[0]) + \"\\n\"\n",
    "    agro_fasta.write(string)\n",
    "agro_fasta.close()\n",
    "\n",
    "baci_fasta = open(\"/Users/guf24vol/Documents/nobori_PHYTOMap_rotation/probes/baci_possible.fasta\", \"a\")\n",
    "for maybe_probe in baci_probes:\n",
    "    string = f\">{maybe_probe[1]}_of_{maybe_probe[4]} \\n\" + str(maybe_probe[0]) + \"\\n\"\n",
    "    baci_fasta.write(string)\n",
    "baci_fasta.close()\n",
    "\n",
    "flavo_fasta = open(\"/Users/guf24vol/Documents/nobori_PHYTOMap_rotation/probes/flavo_possible.fasta\", \"a\")\n",
    "for maybe_probe in flavo_probes:\n",
    "    string = f\">{maybe_probe[1]}_of_{maybe_probe[4]} \\n\" + str(maybe_probe[0]) + \"\\n\"\n",
    "    flavo_fasta.write(string)\n",
    "flavo_fasta.close()\n",
    "\n",
    "leif_fasta = open(\"/Users/guf24vol/Documents/nobori_PHYTOMap_rotation/probes/leif_possible.fasta\", \"a\")\n",
    "for maybe_probe in leif_probes:\n",
    "    string = f\">{maybe_probe[1]}_of_{maybe_probe[4]} \\n\" + str(maybe_probe[0]) + \"\\n\"\n",
    "    leif_fasta.write(string)\n",
    "leif_fasta.close()\n",
    "\n",
    "pseud_fasta = open(\"/Users/guf24vol/Documents/nobori_PHYTOMap_rotation/probes/pseud_possible.fasta\", \"a\")\n",
    "for maybe_probe in pseud_probes:\n",
    "    string = f\">{maybe_probe[1]}_of_{maybe_probe[4]} \\n\" + str(maybe_probe[0]) + \"\\n\"\n",
    "    pseud_fasta.write(string)\n",
    "pseud_fasta.close()\n",
    "\n",
    "wcs365_fasta = open(\"/Users/guf24vol/Documents/nobori_PHYTOMap_rotation/probes/wcs365_possible.fasta\", \"a\")\n",
    "for maybe_probe in wcs365_probes:\n",
    "    string = f\">{maybe_probe[1]}_of_{maybe_probe[4]} \\n\" + str(maybe_probe[0]) + \"\\n\"\n",
    "    wcs365_fasta.write(string)\n",
    "wcs365_fasta.close()\n",
    "\n"
   ]
  },
  {
   "cell_type": "markdown",
   "metadata": {},
   "source": [
    "### BLAST\n",
    "\n",
    "so, i've made a shell scripts to make the blast databases and run the blasts, as such.\n",
    "\n",
    "I could muck about with subprocess to try get this to run in python, but really. just copy and paste the above text, remove most the hashtags, save it to the appropriate directory as a .sh file, make executable with chmod +x ./path/to/file.sh, and run. voila, your blast results!\n",
    "\n"
   ]
  },
  {
   "cell_type": "code",
   "execution_count": null,
   "metadata": {
    "vscode": {
     "languageId": "shellscript"
    }
   },
   "outputs": [],
   "source": [
    "# #!/bin/sh\n",
    " \n",
    "# cd ~/Documents/nobori_PHYTOMap_rotation/probes/blast_dbs\n",
    "\n",
    "# # concatenate the transcriptome databases into the relevant groups\n",
    "\n",
    "# cat agrobacterium_2561511224.genes.fna bacillus_2517572206.genes.fna flavobacterium_2563366720.genes.fna leifsona_2522572063.genes.fna pseud_2228664007.genes.fna WCS365_cds.fna Col0.fasta > all_blastdb.fasta\n",
    "\n",
    "# cat bacillus_2517572206.genes.fna flavobacterium_2563366720.genes.fna leifsona_2522572063.genes.fna pseud_2228664007.genes.fna WCS365_cds.fna Col0.fasta > notagro_blastdb.fasta\n",
    "\n",
    "# cat agrobacterium_2561511224.genes.fna flavobacterium_2563366720.genes.fna leifsona_2522572063.genes.fna pseud_2228664007.genes.fna WCS365_cds.fna Col0.fasta > notbaci_blastdb.fasta\n",
    "\n",
    "# cat agrobacterium_2561511224.genes.fna bacillus_2517572206.genes.fna leifsona_2522572063.genes.fna pseud_2228664007.genes.fna WCS365_cds.fna Col0.fasta > notflavo_blastdb.fasta\n",
    "\n",
    "# cat agrobacterium_2561511224.genes.fna bacillus_2517572206.genes.fna flavobacterium_2563366720.genes.fna pseud_2228664007.genes.fna WCS365_cds.fna Col0.fasta > notleif_blastdb.fasta\n",
    "\n",
    "# cat agrobacterium_2561511224.genes.fna bacillus_2517572206.genes.fna flavobacterium_2563366720.genes.fna leifsona_2522572063.genes.fna WCS365_cds.fna Col0.fasta > notpseud_blastdb.fasta\n",
    "\n",
    "# cat agrobacterium_2561511224.genes.fna bacillus_2517572206.genes.fna flavobacterium_2563366720.genes.fna leifsona_2522572063.genes.fna pseud_2228664007.genes.fna  Col0.fasta > notWCS365_blastdb.fasta\n",
    "\n",
    "# # make blastdbs\n",
    "\n",
    "# makeblastdb -in all_blastdb.fasta -dbtype nucl -out all_blastdb\n",
    "# makeblastdb -in notagro_blastdb.fasta -dbtype nucl -out notagro_blastdb\n",
    "# makeblastdb -in notbaci_blastdb.fasta -dbtype nucl -out notbaci_blastdb\n",
    "# makeblastdb -in notflavo_blastdb.fasta -dbtype nucl -out notflavo_blastdb\n",
    "# makeblastdb -in notleif_blastdb.fasta -dbtype nucl -out notleif_blastdb\n",
    "# makeblastdb -in notpseud_blastdb.fasta -dbtype nucl -out notpseud_blastdb\n",
    "# makeblastdb -in notWCS365_blastdb.fasta -dbtype nucl -out notWCS365_blastdb\n"
   ]
  },
  {
   "cell_type": "code",
   "execution_count": null,
   "metadata": {
    "vscode": {
     "languageId": "shellscript"
    }
   },
   "outputs": [],
   "source": [
    "# #!/bin/sh\n",
    "\n",
    "# #run blastdb\n",
    "\n",
    "# blastn -query agro_possible.fasta  -db blast_dbs/notagro_blastdb -evalue 0.001 -num_threads 4 -outfmt 10 -out agro_blast.csv\n",
    "\n",
    "# blastn -query baci_possible.fasta  -db blast_dbs/notbaci_blastdb -evalue 0.001 -num_threads 4 -outfmt 10 -out baci_blast.csv\n",
    "\n",
    "# blastn -query flavo_possible.fasta  -db blast_dbs/notflavo_blastdb -evalue 0.001 -num_threads 4 -outfmt 10 -out flavo_blast.csv\n",
    "\n",
    "# blastn -query leif_possible.fasta  -db blast_dbs/notleif_blastdb -evalue 0.001 -num_threads 4 -outfmt 10 -out leif_blast.csv\n",
    "\n",
    "# blastn -query pseud_possible.fasta  -db blast_dbs/notpseud_blastdb -evalue 0.001 -num_threads 4 -outfmt 10 -out pseud_blast.csv\n",
    "\n",
    "# blastn -query WCS365_possible.fasta  -db blast_dbs/notWCS365_blastdb -evalue 0.001 -num_threads 4 -outfmt 10 -out WCS365_blast.csv"
   ]
  },
  {
   "cell_type": "markdown",
   "metadata": {},
   "source": [
    "### Post Blast Processing"
   ]
  },
  {
   "cell_type": "code",
   "execution_count": null,
   "metadata": {},
   "outputs": [],
   "source": [
    "\n",
    "baci21_blast_hits = \"/Users/guf24vol/Documents/nobori_PHYTOMap_rotation/probes/baci21_blast.csv\"\n",
    "baci21_annotation_filepath = \"/Users/guf24vol/Documents/nobori_PHYTOMap_rotation/probes/genomes/syncom5/BacspUNC41MFS5_2/IMG_Data/2563366514/2563366514.ko.tab.txt\"\n",
    "\n",
    "bacillus21_output = post_blast_processing(baci21_blast_hits,baci21_probes,baci21_annotation_filepath)\n",
    "\n",
    "bacillus21_good = bacillus21_output[0]\n",
    "bacillus21_KO = bacillus21_output[1]"
   ]
  },
  {
   "cell_type": "code",
   "execution_count": 6,
   "metadata": {},
   "outputs": [],
   "source": [
    "# Agrobacterium\n",
    "\n",
    "agro_blast_hits = \"/Users/guf24vol/Documents/nobori_PHYTOMap_rotation/probes/agro_blast.csv\"\n",
    "agro_annotation_filepath = \"/Users/guf24vol/Documents/nobori_PHYTOMap_rotation/probes/genomes/Agrsp33MFTa11/IMG_Data/2561511224/2561511224.ko.tab.txt\"\n",
    "\n",
    "agro_output = post_blast_processing(agro_blast_hits,agro_probes,agro_annotation_filepath)\n",
    "\n",
    "agro_good = agro_output[0]\n",
    "agro_KO = agro_output[1]\n",
    "\n",
    "# Bacillus\n",
    "\n",
    "baci_blast_hits = \"/Users/guf24vol/Documents/nobori_PHYTOMap_rotation/probes/baci_blast.csv\"\n",
    "baci_annotation_filepath = \"/Users/guf24vol/Documents/nobori_PHYTOMap_rotation/probes/genomes/Bacillussp105MF/IMG_Data/2517572206/2517572206.ko.tab.txt\"\n",
    "\n",
    "bacillus_output = post_blast_processing(baci_blast_hits,baci_probes,baci_annotation_filepath)\n",
    "\n",
    "bacillus_good = bacillus_output[0]\n",
    "bacillus_KO = bacillus_output[1]\n",
    "\n",
    "# Flavobacterium\n",
    "\n",
    "flavo_blast_hits = \"/Users/guf24vol/Documents/nobori_PHYTOMap_rotation/probes/flavo_blast.csv\"\n",
    "flavo_annotation_filepath = \"/Users/guf24vol/Documents/nobori_PHYTOMap_rotation/probes/genomes/Flasp40S8/IMG_Data/2563366720/2563366720.ko.tab.txt\"\n",
    "\n",
    "flavo_output = post_blast_processing(flavo_blast_hits,flavo_probes,flavo_annotation_filepath)\n",
    "\n",
    "flavo_good = flavo_output[0]\n",
    "flavo_KO = flavo_output[1]\n",
    "\n",
    "# Flavobacterium\n",
    "\n",
    "leif_blast_hits = \"/Users/guf24vol/Documents/nobori_PHYTOMap_rotation/probes/leif_blast.csv\"\n",
    "leif_annotation_filepath = \"/Users/guf24vol/Documents/nobori_PHYTOMap_rotation/probes/genomes/Leifsoniasp109/IMG_Data/2522572063/2522572063.ko.tab.txt\"\n",
    "\n",
    "leif_output = post_blast_processing(leif_blast_hits,leif_probes,leif_annotation_filepath)\n",
    "\n",
    "leif_good = leif_output[0]\n",
    "leif_KO = leif_output[1]\n",
    "\n",
    "# Pseudomonas\n",
    "\n",
    "pseud_blast_hits = \"/Users/guf24vol/Documents/nobori_PHYTOMap_rotation/probes/pseud_blast.csv\"\n",
    "pseud_annotation_filepath = \"/Users/guf24vol/Documents/nobori_PHYTOMap_rotation/probes/genomes/PsespKD5_2/IMG_Data/2228664007/2228664007.ko.tab.txt\"\n",
    "\n",
    "pseud_output = post_blast_processing(pseud_blast_hits,pseud_probes,pseud_annotation_filepath)\n",
    "\n",
    "pseud_good = pseud_output[0]\n",
    "pseud_KO = pseud_output[1]\n",
    "\n",
    "# # WCS365 - doesn't have KO annotation file as I didn't download it from JGI. However, the fasta names have the gene names, so I just need to filter it a bit.\n",
    "\n",
    "wcs365_blast_hits = \"/Users/guf24vol/Documents/nobori_PHYTOMap_rotation/probes/wcs365_blast.csv\"\n",
    "wcs365_annotation_filepath = \"/Users/guf24vol/Documents/nobori_PHYTOMap_rotation/probes/genomes/Flasp40S8/IMG_Data/2563366720/2563366720.ko.tab.txt\"\n",
    "\n",
    "# wcs365_output = post_blast_processing(wcs365_blast_hits,wcs365_probes,wcs365_annotation_filepath)\n",
    "\n",
    "# wcs365_good = wcs365_output[0]\n",
    "# wcs365_KO = wcs365_output[1]"
   ]
  },
  {
   "cell_type": "markdown",
   "metadata": {},
   "source": [
    "# WCS365\n",
    "As this is a GenBank file, not a JGI file, it's a slightly different format. The below code cells work in much the same way as the initial functions, just modified slightly in respect to the different format. Instead of referencing the KO files (which aren't available from GenBank), I can split up the Fasta ID to extract the gene annotation."
   ]
  },
  {
   "cell_type": "code",
   "execution_count": 7,
   "metadata": {},
   "outputs": [],
   "source": [
    "possible_probes = wcs365_probes \n",
    "path_to_blast_hits = wcs365_blast_hits"
   ]
  },
  {
   "cell_type": "code",
   "execution_count": 8,
   "metadata": {},
   "outputs": [],
   "source": [
    "#import blast hits and add column names\n",
    "blast_hits = pd.read_csv(path_to_blast_hits, names = [\"qseqid\", \"sseqid\", \"pident\", \"length\", \"mismatch\", \"gapopen\", \"qstart\", \"qend\", \"sstart\", \"send\", \"evalue\", \"bitscore\"], usecols=[\"qseqid\"])\n",
    "#use it to filter our possible_probes\n",
    "probes_df = pd.DataFrame(possible_probes, columns = [\"probe_seq\", \"start_position_in_gene\", \"melting temp\", \"GC\", \"geneID\" ]) #relabelling\n",
    "probes_df['ID'] = probes_df['start_position_in_gene'].astype(str) + '_of_' + probes_df['geneID'].astype(str)\n",
    "unique_probes = probes_df.loc[~probes_df['ID'].isin(blast_hits['qseqid'])].reset_index(drop=True)"
   ]
  },
  {
   "cell_type": "code",
   "execution_count": 9,
   "metadata": {},
   "outputs": [],
   "source": [
    "#split 52-mer probes into 25-mer probes and recheck melting temperature and gc content\n",
    "\n",
    "unique_probes['probe1'] = unique_probes.loc[:,'probe_seq'].str[0:25]\n",
    "unique_probes['probe2'] = unique_probes.loc[:,'probe_seq'].str[27:50] # 2 nt gap.\n",
    "#recheck melting temp\n",
    "probe1_series = pd.Series(unique_probes.loc[:,'probe1'])\n",
    "probe2_series = pd.Series(unique_probes.loc[:,'probe2'])\n",
    "mt_list1 = []\n",
    "mt_list2 = []\n",
    "\n",
    "for probe in probe1_series:\n",
    "    melting_temp = mt.Tm_NN(probe,dnac1=250, dnac2=250, Na=50)\n",
    "    mt_list1.append(melting_temp)\n",
    "\n",
    "for probe in probe2_series:\n",
    "    melting_temp = mt.Tm_NN(probe,dnac1=250, dnac2=250, Na=50)\n",
    "    mt_list2.append(melting_temp)\n",
    "\n",
    "unique_probes['mt1'] = mt_list1\n",
    "unique_probes['mt2'] = mt_list2"
   ]
  },
  {
   "cell_type": "code",
   "execution_count": 10,
   "metadata": {},
   "outputs": [],
   "source": [
    "\n",
    "# and gc content of these half probes\n",
    "gc_list1 = []\n",
    "gc_list2 = []\n",
    "\n",
    "for probe in probe1_series:\n",
    "    gc_content = gc_fraction(probe)\n",
    "    gc_list1.append(gc_content)\n",
    "\n",
    "for probe in probe2_series:\n",
    "    gc_content = gc_fraction(probe)\n",
    "    gc_list2.append(gc_content)\n",
    "\n",
    "unique_probes['gc1'] = gc_list1\n",
    "unique_probes['gc2'] = gc_list2"
   ]
  },
  {
   "cell_type": "code",
   "execution_count": 11,
   "metadata": {},
   "outputs": [],
   "source": [
    "#filter to useful probes\n",
    "good_probes = unique_probes[\n",
    "    (abs(unique_probes['mt1'] - 60) <= 2) &\n",
    "    (abs(unique_probes['mt2'] - 60) <= 2) &\n",
    "    (0.4 <= unique_probes['gc1']) & (unique_probes['gc1'] <= 0.6) &\n",
    "    (0.4 <= unique_probes['gc2']) & (unique_probes['gc2'] <= 0.6)           \n",
    "    ]"
   ]
  },
  {
   "cell_type": "code",
   "execution_count": null,
   "metadata": {},
   "outputs": [],
   "source": [
    "good_probes"
   ]
  },
  {
   "cell_type": "code",
   "execution_count": 12,
   "metadata": {},
   "outputs": [],
   "source": [
    "#find how many probes per gene and attach KO annotations\n",
    "probes_by_geneID = pd.DataFrame(good_probes['geneID'].value_counts())\n",
    "probes_by_geneID = probes_by_geneID.rename(columns={\"count\": \"probe_count\"})\n"
   ]
  },
  {
   "cell_type": "code",
   "execution_count": 13,
   "metadata": {},
   "outputs": [],
   "source": [
    "#this is a bit messy, but it threw up a \"Columns must be same length as key\" error when I tried to do it on one line. This may possibly indicate some of these strings aren't splitting correctly... oh well!\n",
    "\n",
    "wcs365_annotated = probes_by_geneID\n",
    "wcs365_annotated['fasta_ID'] = wcs365_annotated.index\n",
    "wcs365_annotated['locus_tag'] = wcs365_annotated.fasta_ID.str.split('[',expand=True)[1]\n",
    "wcs365_annotated['protein_name'] = wcs365_annotated.fasta_ID.str.split('[',expand=True)[2]\n",
    "wcs365_annotated['protein_id'] = wcs365_annotated.fasta_ID.str.split('[',expand=True)[3]\n",
    "wcs365_annotated['locus'] = wcs365_annotated.fasta_ID.str.split('[',expand=True)[4]\n",
    "wcs365_annotated['gb_key'] = wcs365_annotated.fasta_ID.str.split('[',expand=True)[5]\n"
   ]
  },
  {
   "cell_type": "code",
   "execution_count": 8,
   "metadata": {},
   "outputs": [],
   "source": [
    "bacillus_KO.to_csv('bacillus21_gene_hits.csv', index =False)"
   ]
  },
  {
   "cell_type": "markdown",
   "metadata": {},
   "source": [
    "# Output Possible Probes"
   ]
  },
  {
   "cell_type": "code",
   "execution_count": null,
   "metadata": {},
   "outputs": [],
   "source": [
    "#output to csv\n",
    "agro_KO.to_csv('agro_gene_hazel.csv', index=False)\n",
    "bacillus_KO.to_csv('bacillus_gene_hits.csv', index =False)\n",
    "bacillus21_KO.to_csv('bacillus_gene_hits.csv', index =False)\n",
    "flavo_KO.to_csv('flavo_gene_hits.csv', index =False)\n",
    "leif_KO.to_csv('leif_gene_hits.csv', index =False)\n",
    "pseud_KO.to_csv('pseud_gene_hits.csv', index =False)\n",
    "wcs365_annotated.to_csv('wcs365_gene_hits.csv', index =False)"
   ]
  },
  {
   "cell_type": "markdown",
   "metadata": {},
   "source": [
    "Siyu has reviewed the above cvs files and picked out some genes of interest. I'm going to filter our good probes to those genes to then be able to pick out a selection. I'll then double check with another BLAST, and send some to Tatsuya for a review!"
   ]
  },
  {
   "cell_type": "code",
   "execution_count": 9,
   "metadata": {},
   "outputs": [],
   "source": [
    "baci21_hk = bacillus_good[(bacillus_good['geneID'] == '2563431447') | (bacillus_good['geneID'] == '2563430930') | (bacillus_good['geneID'] == '2563428301') | (bacillus_good['geneID'] == '2563432503')] "
   ]
  },
  {
   "cell_type": "code",
   "execution_count": null,
   "metadata": {},
   "outputs": [],
   "source": [
    "#hk as in housekeeping\n",
    "agro_hk = agro_good[(agro_good['geneID'] == '2562541429') | (agro_good['geneID'] == '2562541430') | (agro_good['geneID'] == '2230707588') | (agro_good['geneID'] == '2562541423')] \n",
    "baci_hk = bacillus_good[(bacillus_good['geneID'] == '2518125829') | (bacillus_good['geneID'] == '2518121137') | (bacillus_good['geneID'] == '2518125439') | (bacillus_good['geneID'] == '2518122162')] \n",
    "flavo_hk = flavo_good[(flavo_good['geneID'] == '2563781565') | (flavo_good['geneID'] == '2563782279') | (flavo_good['geneID'] == '2563784830')] \n",
    "leif_hk = leif_good[(leif_good['geneID'] == '2522795509') | (leif_good['geneID'] == '2522794802') | (leif_good['geneID'] == '2522795262') | (leif_good['geneID'] == '2522794626') | (leif_good['geneID'] == '2522794847')] \n",
    "pseud_hk = pseud_good[(pseud_good['geneID'] == '2230707191') | (pseud_good['geneID'] == '2230707195') | (pseud_good['geneID'] == '2230707588') | (pseud_good['geneID'] == '2230710753')] \n",
    "\n",
    "\n",
    "wcs365_hk = good_probes[(good_probes['geneID'] == 'lcl|NZ_PHHS01000018.1_cds_WP_100264311.1_2000_[locus_tag=CVG87_RS26585]_[protein=elongation_factor_Tu]_[frame=3]_[protein_id=WP_100264311.1]_[location=<1..836]_[gbkey=CDS]') | (good_probes['geneID'] == 'lcl|NZ_PHHS01000003.1_cds_WP_100263780.1_3513_[locus_tag=CVG87_RS08380]_[protein=UvrD-helicase_domain-containing_protein]_[protein_id=WP_100263780.1]_[location=complement(302828..305299)]_[gbkey=CDS]') | (good_probes['geneID'] == 'lcl|NZ_PHHS01000016.1_cds_WP_003197704.1_1832_[locus_tag=CVG87_RS25720]_[protein=YhbY_family_RNA-binding_protein]_[protein_id=WP_003197704.1]_[location=57643..57951]_[gbkey=CDS]') | (good_probes['geneID'] == 'lcl|NZ_PHHS01000002.1_cds_WP_043042072.1_2310_[locus_tag=CVG87_RS04470]_[protein=DNA_topoisomerase_III]_[protein_id=WP_043042072.1]_[location=127667..129613]_[gbkey=CDS]')] \n",
    "\n"
   ]
  },
  {
   "cell_type": "code",
   "execution_count": null,
   "metadata": {},
   "outputs": [
    {
     "name": "stderr",
     "output_type": "stream",
     "text": [
      "/var/folders/d1/t36jr2g51dl5124ky8htph_r0000gq/T/ipykernel_19144/4289314936.py:4: FutureWarning: Series.__getitem__ treating keys as positions is deprecated. In a future version, integer keys will always be treated as labels (consistent with DataFrame behavior). To access a value by position, use `ser.iloc[pos]`\n",
      "  string = f\">{hk_probe[1][5]} \\n\" + str(hk_probe[1][0]) + \"\\n\"\n"
     ]
    }
   ],
   "source": [
    "#save to fasta files note! that this will append onto existing files\n",
    "baci21_hk_fasta = open(\"/Users/guf24vol/Documents/nobori_PHYTOMap_rotation/probes/baci21_hk.fasta\", \"a\")\n",
    "for hk_probe in baci21_hk.iterrows():\n",
    "    string = f\">{hk_probe[1][5]} \\n\" + str(hk_probe[1][0]) + \"\\n\"\n",
    "    baci21_hk_fasta.write(string)\n",
    "baci21_hk_fasta.close()\n"
   ]
  },
  {
   "cell_type": "code",
   "execution_count": 52,
   "metadata": {},
   "outputs": [
    {
     "name": "stderr",
     "output_type": "stream",
     "text": [
      "/var/folders/d1/t36jr2g51dl5124ky8htph_r0000gq/T/ipykernel_6316/2492245522.py:4: FutureWarning: Series.__getitem__ treating keys as positions is deprecated. In a future version, integer keys will always be treated as labels (consistent with DataFrame behavior). To access a value by position, use `ser.iloc[pos]`\n",
      "  string = f\">{hk_probe[1][5]} \\n\" + str(hk_probe[1][0]) + \"\\n\"\n",
      "/var/folders/d1/t36jr2g51dl5124ky8htph_r0000gq/T/ipykernel_6316/2492245522.py:10: FutureWarning: Series.__getitem__ treating keys as positions is deprecated. In a future version, integer keys will always be treated as labels (consistent with DataFrame behavior). To access a value by position, use `ser.iloc[pos]`\n",
      "  string = f\">{hk_probe[1][5]} \\n\" + str(hk_probe[1][0]) + \"\\n\"\n",
      "/var/folders/d1/t36jr2g51dl5124ky8htph_r0000gq/T/ipykernel_6316/2492245522.py:16: FutureWarning: Series.__getitem__ treating keys as positions is deprecated. In a future version, integer keys will always be treated as labels (consistent with DataFrame behavior). To access a value by position, use `ser.iloc[pos]`\n",
      "  string = f\">{hk_probe[1][5]} \\n\" + str(hk_probe[1][0]) + \"\\n\"\n",
      "/var/folders/d1/t36jr2g51dl5124ky8htph_r0000gq/T/ipykernel_6316/2492245522.py:22: FutureWarning: Series.__getitem__ treating keys as positions is deprecated. In a future version, integer keys will always be treated as labels (consistent with DataFrame behavior). To access a value by position, use `ser.iloc[pos]`\n",
      "  string = f\">{hk_probe[1][5]} \\n\" + str(hk_probe[1][0]) + \"\\n\"\n",
      "/var/folders/d1/t36jr2g51dl5124ky8htph_r0000gq/T/ipykernel_6316/2492245522.py:28: FutureWarning: Series.__getitem__ treating keys as positions is deprecated. In a future version, integer keys will always be treated as labels (consistent with DataFrame behavior). To access a value by position, use `ser.iloc[pos]`\n",
      "  string = f\">{hk_probe[1][5]} \\n\" + str(hk_probe[1][0]) + \"\\n\"\n",
      "/var/folders/d1/t36jr2g51dl5124ky8htph_r0000gq/T/ipykernel_6316/2492245522.py:34: FutureWarning: Series.__getitem__ treating keys as positions is deprecated. In a future version, integer keys will always be treated as labels (consistent with DataFrame behavior). To access a value by position, use `ser.iloc[pos]`\n",
      "  string = f\">{hk_probe[1][5]} \\n\" + str(hk_probe[1][0]) + \"\\n\"\n"
     ]
    }
   ],
   "source": [
    "#save to fasta files note! that this will append onto existing files\n",
    "agro_hk_fasta = open(\"/Users/guf24vol/Documents/nobori_PHYTOMap_rotation/probes/agro_hk.fasta\", \"a\")\n",
    "for hk_probe in agro_hk.iterrows():\n",
    "    string = f\">{hk_probe[1][5]} \\n\" + str(hk_probe[1][0]) + \"\\n\"\n",
    "    agro_hk_fasta.write(string)\n",
    "agro_hk_fasta.close()\n",
    "\n",
    "baci_hk_fasta = open(\"/Users/guf24vol/Documents/nobori_PHYTOMap_rotation/probes/baci_hk.fasta\", \"a\")\n",
    "for hk_probe in baci_hk.iterrows():\n",
    "    string = f\">{hk_probe[1][5]} \\n\" + str(hk_probe[1][0]) + \"\\n\"\n",
    "    baci_hk_fasta.write(string)\n",
    "baci_hk_fasta.close()\n",
    "\n",
    "flavo_hk_fasta = open(\"/Users/guf24vol/Documents/nobori_PHYTOMap_rotation/probes/flavo_hk.fasta\", \"a\")\n",
    "for hk_probe in flavo_hk.iterrows():\n",
    "    string = f\">{hk_probe[1][5]} \\n\" + str(hk_probe[1][0]) + \"\\n\"\n",
    "    flavo_hk_fasta.write(string)\n",
    "flavo_hk_fasta.close()\n",
    "\n",
    "leif_hk_fasta = open(\"/Users/guf24vol/Documents/nobori_PHYTOMap_rotation/probes/leif_hk.fasta\", \"a\")\n",
    "for hk_probe in leif_hk.iterrows():\n",
    "    string = f\">{hk_probe[1][5]} \\n\" + str(hk_probe[1][0]) + \"\\n\"\n",
    "    leif_hk_fasta.write(string)\n",
    "leif_hk_fasta.close()\n",
    "\n",
    "pseud_hk_fasta = open(\"/Users/guf24vol/Documents/nobori_PHYTOMap_rotation/probes/pseud_hk.fasta\", \"a\")\n",
    "for hk_probe in pseud_hk.iterrows():\n",
    "    string = f\">{hk_probe[1][5]} \\n\" + str(hk_probe[1][0]) + \"\\n\"\n",
    "    pseud_hk_fasta.write(string)\n",
    "pseud_hk_fasta.close()\n",
    "\n",
    "wcs365_hk_fasta = open(\"/Users/guf24vol/Documents/nobori_PHYTOMap_rotation/probes/wcs365_hk.fasta\", \"a\")\n",
    "for hk_probe in wcs365_hk.iterrows():\n",
    "    string = f\">{hk_probe[1][5]} \\n\" + str(hk_probe[1][0]) + \"\\n\"\n",
    "    wcs365_hk_fasta.write(string)\n",
    "wcs365_hk_fasta.close()"
   ]
  },
  {
   "cell_type": "markdown",
   "metadata": {},
   "source": [
    "ran the above through blast against a blastdb of all the other protein coding genomes in the syncom as so:\n",
    "(with the exception of genomes Rhodococcus_erythropolis_339MFSha3.1_2643221496, Ochrobactrum_sp._370MFChir3.1_2643221500, and Variovorax_paradoxus_CL14_2643221508, which for whatever reason were unavailable on JGI. Instead, I used Rhodococcus erythropolis 2904535858, Ochrobactrum sp. 2824536489, and Variovorax paradoxus 4MFCol3.1 2517572245 respectively.)\n",
    "\n",
    "blastn -query wcs365_hk.fasta  -db blast_dbs/not5syncom_blastdb -evalue 0.0001 -num_threads 4 -outfmt 10 -out wcs365_hk_blast.csv\n"
   ]
  },
  {
   "cell_type": "code",
   "execution_count": null,
   "metadata": {},
   "outputs": [],
   "source": [
    "agro_hk_hits = pd.read_csv(\"/Users/guf24vol/Documents/nobori_PHYTOMap_rotation/probes/agro_hk_blast.csv\", names = [\"probe_id\", \"hit_id\",\"pident\", \"length\", \"mismatch\", \"gapopen\", \"qstart\", \"qend\", \"sstart\", \"send\", \"evalue\", \"bitscore\"])\n",
    "baci_hk_hits = pd.read_csv(\"/Users/guf24vol/Documents/nobori_PHYTOMap_rotation/probes/baci_hk_blast.csv\", names = [\"probe_id\", \"hit_id\",\"pident\", \"length\", \"mismatch\", \"gapopen\", \"qstart\", \"qend\", \"sstart\", \"send\", \"evalue\", \"bitscore\"])\n",
    "flavo_hk_hits = pd.read_csv(\"/Users/guf24vol/Documents/nobori_PHYTOMap_rotation/probes/flavo_hk_blast.csv\", names = [\"probe_id\", \"hit_id\",\"pident\", \"length\", \"mismatch\", \"gapopen\", \"qstart\", \"qend\", \"sstart\", \"send\", \"evalue\", \"bitscore\"])\n",
    "leif_hk_hits = pd.read_csv(\"/Users/guf24vol/Documents/nobori_PHYTOMap_rotation/probes/leif_hk_blast.csv\", names = [\"probe_id\", \"hit_id\",\"pident\", \"length\", \"mismatch\", \"gapopen\", \"qstart\", \"qend\", \"sstart\", \"send\", \"evalue\", \"bitscore\"])\n",
    "pseud_hk_hits = pd.read_csv(\"/Users/guf24vol/Documents/nobori_PHYTOMap_rotation/probes/pseud_hk_blast.csv\", names = [\"probe_id\", \"hit_id\",\"pident\", \"length\", \"mismatch\", \"gapopen\", \"qstart\", \"qend\", \"sstart\", \"send\", \"evalue\", \"bitscore\"])\n",
    "wcs365_hk_hits = pd.read_csv(\"/Users/guf24vol/Documents/nobori_PHYTOMap_rotation/probes/wcs365_hk_blast.csv\", names = [\"probe_id\", \"hit_id\",\"pident\", \"length\", \"mismatch\", \"gapopen\", \"qstart\", \"qend\", \"sstart\", \"send\", \"evalue\", \"bitscore\"])\n"
   ]
  },
  {
   "cell_type": "code",
   "execution_count": null,
   "metadata": {},
   "outputs": [],
   "source": [
    "baci21_hk_hits = pd.read_csv(\"/Users/guf24vol/Documents/nobori_PHYTOMap_rotation/probes/baci21_hk_blast.csv\", names = [\"probe_id\", \"hit_id\",\"pident\", \"length\", \"mismatch\", \"gapopen\", \"qstart\", \"qend\", \"sstart\", \"send\", \"evalue\", \"bitscore\"])"
   ]
  },
  {
   "cell_type": "code",
   "execution_count": null,
   "metadata": {},
   "outputs": [],
   "source": [
    "baci21_unique_hk = baci21_hk.loc[~baci21_hk['ID'].isin(baci21_hk_hits['probe_id'])].reset_index(drop=True)\n",
    "baci21_final_probes = pd.merge(baci21_unique_hk, bacillus21_KO, left_on='geneID', right_on='gene_oid').iloc[:,[4,6,7,8,9,10,11,16,17]]"
   ]
  },
  {
   "cell_type": "code",
   "execution_count": null,
   "metadata": {},
   "outputs": [],
   "source": [
    "agro_unique_hk = agro_hk.loc[~agro_hk['ID'].isin(agro_hk_hits['probe_id'])].reset_index(drop=True)\n",
    "agro_final_probes = pd.merge(agro_unique_hk, agro_KO, left_on='geneID', right_on='gene_oid').iloc[:,[4,6,7,8,9,10,11,16,17]]\n",
    "\n",
    "baci_unique_hk = baci_hk.loc[~baci_hk['ID'].isin(baci_hk_hits['probe_id'])].reset_index(drop=True)\n",
    "baci_final_probes = pd.merge(baci_unique_hk, bacillus_KO, left_on='geneID', right_on='gene_oid').iloc[:,[4,6,7,8,9,10,11,16,17]]\n",
    "\n",
    "flavo_unique_hk = flavo_hk.loc[~flavo_hk['ID'].isin(flavo_hk_hits['probe_id'])].reset_index(drop=True)\n",
    "flavo_final_probes = pd.merge(flavo_unique_hk, flavo_KO, left_on='geneID', right_on='gene_oid').iloc[:,[4,6,7,8,9,10,11,16,17]]\n",
    "\n",
    "leif_unique_hk = leif_hk.loc[~leif_hk['ID'].isin(leif_hk_hits['probe_id'])].reset_index(drop=True)\n",
    "leif_final_probes = pd.merge(leif_unique_hk, leif_KO, left_on='geneID', right_on='gene_oid').iloc[:,[4,6,7,8,9,10,11,16,17]]\n",
    "\n",
    "pseud_unique_hk = pseud_hk.loc[~pseud_hk['ID'].isin(pseud_hk_hits['probe_id'])].reset_index(drop=True)\n",
    "pseud_final_probes = pd.merge(pseud_unique_hk, pseud_KO, left_on='geneID', right_on='gene_oid').iloc[:,[4,6,7,8,9,10,11,16,17]]\n",
    "\n",
    "wcs365_unique_hk = wcs365_hk.loc[~wcs365_hk['ID'].isin(wcs365_hk_hits['probe_id'])].reset_index(drop=True)\n",
    "wcs365_final_probes = pd.merge(wcs365_unique_hk, wcs365_annotated, left_on='geneID', right_on='geneID').iloc[:,[5,6,7,8,9,10,11]]"
   ]
  },
  {
   "cell_type": "code",
   "execution_count": 88,
   "metadata": {},
   "outputs": [],
   "source": [
    "# output to csv\n",
    "agro_final_probes.to_csv('agro_final_probes.csv', index=False)\n",
    "baci_final_probes.to_csv('bacillus_final_probes.csv', index =False)\n",
    "flavo_final_probes.to_csv('flavo_final_probes.csv', index =False)\n",
    "leif_final_probes.to_csv('leif_final_probes.csv', index =False)\n",
    "pseud_final_probes.to_csv('pseud_final_probes.csv', index =False)\n",
    "wcs365_final_probes.to_csv('wcs365_final_probes.csv', index =False)\n"
   ]
  },
  {
   "cell_type": "code",
   "execution_count": 13,
   "metadata": {},
   "outputs": [],
   "source": [
    "baci21_final_probes.to_csv('bacillus21_final_probes.csv', index =False)"
   ]
  },
  {
   "cell_type": "markdown",
   "metadata": {},
   "source": [
    "reverse transcriptase-ing everything"
   ]
  },
  {
   "cell_type": "code",
   "execution_count": 50,
   "metadata": {},
   "outputs": [],
   "source": [
    "to_be_rt_df = pd.read_csv(\"/Users/guf24vol/Documents/nobori_PHYTOMap_rotation/probes/probes_output/final_output/rev_comped.csv\")\n",
    "\n",
    "probe_list = []\n",
    "rt_list = []\n",
    "\n",
    "for probe in to_be_rt_df['cds_sequence'].values:\n",
    "    probe_list.append(Seq(probe))\n",
    "for probe in probe_list:\n",
    "    rt_list.append(probe.reverse_complement())\n",
    "\n",
    "to_be_rt_df['rev_comp'] = rt_list\n",
    "to_be_rt_df.to_csv('rev_comped.csv', index=False)"
   ]
  },
  {
   "cell_type": "markdown",
   "metadata": {},
   "source": [
    "# Generating a \"General Probe\" from the 16S rRNA Gene"
   ]
  },
  {
   "cell_type": "code",
   "execution_count": null,
   "metadata": {},
   "outputs": [],
   "source": [
    "fasta_filepath = \"/Users/guf24vol/Documents/nobori_PHYTOMap_rotation/probes/all_bac_probe/16S_conserved.faa\"\n",
    "probes_16S = possible_probes(fasta_filepath)\n",
    "probes_16S"
   ]
  },
  {
   "cell_type": "code",
   "execution_count": 28,
   "metadata": {},
   "outputs": [],
   "source": [
    "c16S_fasta = open(\"/Users/guf24vol/Documents/nobori_PHYTOMap_rotation/probes/c16S_possible.fasta\", \"a\")\n",
    "for maybe_probe in probes_16S:\n",
    "    string = f\">{maybe_probe[1]}_of_{maybe_probe[4]} \\n\" + str(maybe_probe[0]) + \"\\n\"\n",
    "    c16S_fasta.write(string)\n",
    "c16S_fasta.close()\n"
   ]
  },
  {
   "cell_type": "code",
   "execution_count": 43,
   "metadata": {},
   "outputs": [],
   "source": [
    "def c16S_post_blast_processing(blast_hits_filepath,possible_probes):\n",
    "    #import blast hits and add column names\n",
    "    blast_hits = pd.read_csv(blast_hits_filepath, names = [\"qseqid\", \"sseqid\", \"pident\", \"length\", \"mismatch\", \"gapopen\", \"qstart\", \"qend\", \"sstart\", \"send\", \"evalue\", \"bitscore\"], usecols=[\"qseqid\"])\n",
    "    #use it to filter our possible_probes\n",
    "    probes_df = pd.DataFrame(possible_probes, columns = [\"probe_seq\", \"start_position_in_gene\", \"melting temp\", \"GC\", \"geneID\" ]) #relabelling\n",
    "    probes_df['ID'] = probes_df['start_position_in_gene'].astype(str) + '_of_' + probes_df['geneID'].astype(str)\n",
    "    unique_probes = probes_df.loc[~probes_df['ID'].isin(blast_hits['qseqid'])].reset_index(drop=True)\n",
    "\n",
    "    #split 52-mer probes into 25-mer probes and recheck melting temperature and gc content\n",
    "\n",
    "    unique_probes['probe1'] = unique_probes.loc[:,'probe_seq'].str[0:25]\n",
    "    unique_probes['probe2'] = unique_probes.loc[:,'probe_seq'].str[27:50] # 2 nt gap.\n",
    "    #recheck melting temp\n",
    "    probe1_series = pd.Series(unique_probes.loc[:,'probe1'])\n",
    "    probe2_series = pd.Series(unique_probes.loc[:,'probe2'])\n",
    "    mt_list1 = []\n",
    "    mt_list2 = []\n",
    "\n",
    "    for probe in probe1_series:\n",
    "        melting_temp = mt.Tm_NN(probe,dnac1=250, dnac2=250, Na=50)\n",
    "        mt_list1.append(melting_temp)\n",
    "\n",
    "    for probe in probe2_series:\n",
    "        melting_temp = mt.Tm_NN(probe,dnac1=250, dnac2=250, Na=50)\n",
    "        mt_list2.append(melting_temp)\n",
    "\n",
    "    unique_probes['mt1'] = mt_list1\n",
    "    unique_probes['mt2'] = mt_list2\n",
    "\n",
    "    # and gc content of these half probes\n",
    "    gc_list1 = []\n",
    "    gc_list2 = []\n",
    "\n",
    "    for probe in probe1_series:\n",
    "        gc_content = gc_fraction(probe)\n",
    "        gc_list1.append(gc_content)\n",
    "\n",
    "    for probe in probe2_series:\n",
    "        gc_content = gc_fraction(probe)\n",
    "        gc_list2.append(gc_content)\n",
    "\n",
    "    unique_probes['gc1'] = gc_list1\n",
    "    unique_probes['gc2'] = gc_list2\n",
    "\n",
    "    #filter to useful probes\n",
    "    good_probes = unique_probes[\n",
    "        (abs(unique_probes['mt1'] - 60) <= 2) &\n",
    "        (abs(unique_probes['mt2'] - 60) <= 2) &\n",
    "        (0.4 <= unique_probes['gc1']) & (unique_probes['gc1'] <= 0.6) &\n",
    "        (0.4 <= unique_probes['gc2']) & (unique_probes['gc2'] <= 0.6)           \n",
    "        ]\n",
    "    return(good_probes)"
   ]
  },
  {
   "cell_type": "code",
   "execution_count": 45,
   "metadata": {},
   "outputs": [],
   "source": [
    "c16S_unique = c16S_post_blast_processing(\"/Users/guf24vol/Documents/nobori_PHYTOMap_rotation/probes/c16S_blast.csv\",probes_16S)\n",
    "c16S_unique.to_csv('c16S_unique_final_probes.csv', index =False)"
   ]
  },
  {
   "cell_type": "code",
   "execution_count": null,
   "metadata": {},
   "outputs": [],
   "source": [
    "c16S_unique"
   ]
  }
 ],
 "metadata": {
  "kernelspec": {
   "display_name": "nobori_env",
   "language": "python",
   "name": "python3"
  },
  "language_info": {
   "codemirror_mode": {
    "name": "ipython",
    "version": 3
   },
   "file_extension": ".py",
   "mimetype": "text/x-python",
   "name": "python",
   "nbconvert_exporter": "python",
   "pygments_lexer": "ipython3",
   "version": "3.13.2"
  }
 },
 "nbformat": 4,
 "nbformat_minor": 2
}
